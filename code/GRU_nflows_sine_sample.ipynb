{
 "cells": [
  {
   "cell_type": "code",
   "execution_count": 26,
   "id": "fdb711f9-9b18-4c24-8188-ff463b2dbe22",
   "metadata": {},
   "outputs": [
    {
     "name": "stdout",
     "output_type": "stream",
     "text": [
      "Requirement already satisfied: corner in /opt/conda/lib/python3.11/site-packages (2.2.2)\n",
      "Requirement already satisfied: matplotlib>=2.1 in /opt/conda/lib/python3.11/site-packages (from corner) (3.7.2)\n",
      "Requirement already satisfied: contourpy>=1.0.1 in /opt/conda/lib/python3.11/site-packages (from matplotlib>=2.1->corner) (1.1.0)\n",
      "Requirement already satisfied: cycler>=0.10 in /opt/conda/lib/python3.11/site-packages (from matplotlib>=2.1->corner) (0.11.0)\n",
      "Requirement already satisfied: fonttools>=4.22.0 in /opt/conda/lib/python3.11/site-packages (from matplotlib>=2.1->corner) (4.42.1)\n",
      "Requirement already satisfied: kiwisolver>=1.0.1 in /opt/conda/lib/python3.11/site-packages (from matplotlib>=2.1->corner) (1.4.5)\n",
      "Requirement already satisfied: numpy>=1.20 in /opt/conda/lib/python3.11/site-packages (from matplotlib>=2.1->corner) (1.24.3)\n",
      "Requirement already satisfied: packaging>=20.0 in /opt/conda/lib/python3.11/site-packages (from matplotlib>=2.1->corner) (23.1)\n",
      "Requirement already satisfied: pillow>=6.2.0 in /opt/conda/lib/python3.11/site-packages (from matplotlib>=2.1->corner) (10.2.0)\n",
      "Requirement already satisfied: pyparsing<3.1,>=2.3.1 in /opt/conda/lib/python3.11/site-packages (from matplotlib>=2.1->corner) (3.0.9)\n",
      "Requirement already satisfied: python-dateutil>=2.7 in /opt/conda/lib/python3.11/site-packages (from matplotlib>=2.1->corner) (2.8.2)\n",
      "Requirement already satisfied: six>=1.5 in /opt/conda/lib/python3.11/site-packages (from python-dateutil>=2.7->matplotlib>=2.1->corner) (1.16.0)\n"
     ]
    }
   ],
   "source": [
    "# This line is needed to get nflows on the pod, at least until we update the container\n",
    "!pip install --upgrade --quiet sbi\n",
    "\n",
    "# This line is needed to get corner.py on the pod, at least until we update the container\n",
    "!pip install corner\n",
    "\n",
    "import torch\n",
    "import torch.nn as nn\n",
    "import torch.optim as optim\n",
    "from torch.utils.data import DataLoader, TensorDataset\n",
    "from torch.nn import Linear, Sigmoid, Sequential, ReLU\n",
    "import torch.nn.functional as F\n",
    "from torch import Tensor\n",
    "import numpy as np\n",
    "from tqdm import tqdm\n",
    "import time\n",
    "import corner\n",
    "from torch.nn import DataParallel\n",
    "device = torch.device(\"cuda\" if torch.cuda.is_available() else \"CPU\")\n",
    "\n",
    "from nflows.flows.base import Flow\n",
    "from nflows.distributions.normal import StandardNormal, ConditionalDiagonalNormal\n",
    "from nflows.transforms.base import CompositeTransform\n",
    "from nflows.transforms.autoregressive import MaskedAffineAutoregressiveTransform\n",
    "from nflows.transforms.permutations import ReversePermutation, RandomPermutation\n",
    "\n",
    "import matplotlib.pyplot as plt\n",
    "from matplotlib import rc, rcParams\n",
    "rc('text',usetex=True)\n",
    "rc('font',**{'size':14, 'family':'serif','serif':['Times New Roman']})\n",
    "rc('xtick.major', size=3, pad=3)\n",
    "rc('xtick', labelsize=16)\n",
    "rc('ytick.major', size=3, pad=3)\n",
    "rc('ytick', labelsize=16)"
   ]
  },
  {
   "cell_type": "code",
   "execution_count": 27,
   "id": "0a7851b4-4bcf-4d89-afb4-89c387e04186",
   "metadata": {},
   "outputs": [],
   "source": [
    "# implementing a basic GRU model through pytorch\n",
    "class GRUModel(nn.Module):\n",
    "    def __init__(self, input_size, hidden_size, num_layers, output_size):\n",
    "        super(GRUModel, self).__init__()\n",
    "        self.hidden_size = hidden_size\n",
    "        self.num_layers = num_layers\n",
    "        self.gru = nn.GRU(input_size, hidden_size, num_layers, batch_first=True)\n",
    "        self.fc = nn.Linear(hidden_size, output_size)\n",
    "        \n",
    "    def forward(self, x):\n",
    "        h0 = torch.zeros(self.num_layers, x.size(0), self.hidden_size).to(x.device)\n",
    "        out, _ = self.gru(x, h0)\n",
    "        out = self.fc(out[:, -1, :])  \n",
    "        return out"
   ]
  },
  {
   "cell_type": "code",
   "execution_count": 28,
   "id": "769515d7-ad3e-4598-ba1b-1cdb81e8ef59",
   "metadata": {},
   "outputs": [],
   "source": [
    "# implementing the flow model\n",
    "class ConditionalFlow(torch.nn.Module):\n",
    "    def __init__(self, cond_channels, hidden_channels, out_channels, num_layers, dropout=0):\n",
    "        # cond_channels specifies the conditionals (i.e. the outputs from the GNN as in context_features from the GNN)\n",
    "        super(ConditionalFlow, self).__init__()\n",
    "        # Flow\n",
    "\n",
    "        base_dist = ConditionalDiagonalNormal(shape=[out_channels], \n",
    "                                      context_encoder=nn.Linear(cond_channels,2*out_channels))\n",
    "\n",
    "        transforms = []\n",
    "        for _ in range(num_layers):\n",
    "            transforms.append(ReversePermutation(features=out_channels))\n",
    "            transforms.append(MaskedAffineAutoregressiveTransform(features=out_channels, \n",
    "                                                          hidden_features=hidden_channels, \n",
    "                                                          context_features=cond_channels))\n",
    "        transform = CompositeTransform(transforms)\n",
    "\n",
    "        self.flow = Flow(transform, base_dist)\n",
    "\n",
    "    def forward(self):\n",
    "        # x = self.flow\n",
    "        return self.flow"
   ]
  },
  {
   "cell_type": "code",
   "execution_count": 29,
   "id": "7193d077-a09f-409c-8348-e1baac664846",
   "metadata": {},
   "outputs": [],
   "source": [
    "# generating sine wave data\n",
    "def generate_sine_wave_data(seq_length, num_samples):\n",
    "    X = []\n",
    "    y = []\n",
    "    for _ in range(num_samples):\n",
    "        freq = np.random.uniform(0.1, 0.5)\n",
    "        phase = np.random.uniform(-np.pi, np.pi)\n",
    "        x = np.linspace(0, 2 * np.pi, seq_length)\n",
    "        y_sine = np.sin(freq * x + phase)\n",
    "        noise = 0.1 * np.random.randn(seq_length)\n",
    "        y_noisy = y_sine + noise\n",
    "        X.append(y_noisy)\n",
    "        y.append([freq, phase])\n",
    "    X = np.array(X).reshape(-1, seq_length, 1)\n",
    "    y = np.array(y)\n",
    "    return X, y\n",
    "\n",
    "# Parameters\n",
    "seq_length = 50\n",
    "num_samples = 1000\n",
    "\n",
    "# Generate data\n",
    "X, y = generate_sine_wave_data(seq_length, num_samples)\n",
    "dataset = TensorDataset(torch.tensor(X, dtype=torch.float32), torch.tensor(y, dtype=torch.float32))\n",
    "train_loader = DataLoader(dataset, batch_size=32, shuffle=True)"
   ]
  },
  {
   "cell_type": "code",
   "execution_count": 30,
   "id": "ee31e711-dba8-419f-afee-f9e45b26b3fd",
   "metadata": {},
   "outputs": [],
   "source": [
    "# GRU model inputs\n",
    "input_size = 1  # Sine wave input\n",
    "hidden_size = 64 # number of hidden neurons\n",
    "num_layers = 2 # number of layers in GRU model\n",
    "output_size = 10  # number of summary features\n",
    "\n",
    "# nflows imput\n",
    "context_features = 10 # number based on GRU model output\n",
    "output_features = 2 # number of final output features (2 in our case)\n",
    "flow_hidden_features = 16 # nflows hidden_features\n",
    "num_layers_flow = 8 # number of layers in nflows\n",
    "\n",
    "# moving the model and nflow to cuda device\n",
    "gru_model = GRUModel(input_size, hidden_size, num_layers, output_size).to(device)\n",
    "flow = ConditionalFlow(cond_channels=context_features, hidden_channels=flow_hidden_features,\n",
    "                       out_channels=output_features, num_layers=num_layers_flow).to(device)\n",
    "\n",
    "# implement multi-GPUs\n",
    "if torch.cuda.device_count() > 1:\n",
    "    gru_model = DataParallel(gru_model)\n",
    "    flow = DataParallel(flow)"
   ]
  },
  {
   "cell_type": "code",
   "execution_count": 31,
   "id": "0ae223a5-085b-4038-baeb-88488c997303",
   "metadata": {},
   "outputs": [],
   "source": [
    "optimizer = optim.Adam(list(gru_model.parameters()) + list(flow.parameters()), lr=0.001)\n",
    "\n",
    "def criterion(data, context, flow):\n",
    "    if torch.cuda.device_count() > 1:\n",
    "        this_batch = len(data)\n",
    "        loss = -flow.module.flow.log_prob(inputs=data, context=context.view(this_batch, context_features)).mean()\n",
    "    else:\n",
    "        this_batch = len(data)\n",
    "        loss = -flow.flow.log_prob(inputs=data, context=context.view(this_batch, context_features)).mean()\n",
    "    return loss\n",
    "\n",
    "def train(model, flow, optimizer, loader):\n",
    "    total_loss = 0\n",
    "    model.train()\n",
    "    flow.train()\n",
    "    for data, target in loader:\n",
    "        data, target = data.to(device), target.to(device)\n",
    "        optimizer.zero_grad()\n",
    "        out = model(data)\n",
    "        loss = criterion(target, out, flow)\n",
    "        loss.backward()\n",
    "        optimizer.step()\n",
    "        total_loss += loss.item() * data.size(0)\n",
    "    return total_loss / len(loader.dataset)\n",
    "\n",
    "@torch.no_grad()\n",
    "def test(model, flow, loader):\n",
    "    total_loss = 0\n",
    "    model.eval()\n",
    "    flow.eval()\n",
    "    for data, target in loader:\n",
    "        data, target = data.to(device), target.to(device)\n",
    "        out = model(data)\n",
    "        loss = criterion(target, out, flow)\n",
    "        total_loss += loss.item() * data.size(0)\n",
    "    return total_loss / len(loader.dataset)"
   ]
  },
  {
   "cell_type": "code",
   "execution_count": 32,
   "id": "76ccc46b-11b6-4bd4-b6a1-bd164da304d4",
   "metadata": {},
   "outputs": [
    {
     "name": "stderr",
     "output_type": "stream",
     "text": [
      "  1%|▉                                                                                      | 1/99 [00:00<00:56,  1.75it/s]"
     ]
    },
    {
     "name": "stdout",
     "output_type": "stream",
     "text": [
      "Epoch: 001, Train Loss: 4.7720, Test Loss: 1.6364\n"
     ]
    },
    {
     "name": "stderr",
     "output_type": "stream",
     "text": [
      "  2%|█▊                                                                                     | 2/99 [00:01<00:54,  1.80it/s]"
     ]
    },
    {
     "name": "stdout",
     "output_type": "stream",
     "text": [
      "Epoch: 002, Train Loss: 1.3569, Test Loss: 1.1680\n"
     ]
    },
    {
     "name": "stderr",
     "output_type": "stream",
     "text": [
      "  3%|██▋                                                                                    | 3/99 [00:01<00:53,  1.81it/s]"
     ]
    },
    {
     "name": "stdout",
     "output_type": "stream",
     "text": [
      "Epoch: 003, Train Loss: 1.0307, Test Loss: 0.8034\n"
     ]
    },
    {
     "name": "stderr",
     "output_type": "stream",
     "text": [
      "  4%|███▌                                                                                   | 4/99 [00:02<00:52,  1.81it/s]"
     ]
    },
    {
     "name": "stdout",
     "output_type": "stream",
     "text": [
      "Epoch: 004, Train Loss: 0.4483, Test Loss: 0.5221\n"
     ]
    },
    {
     "name": "stderr",
     "output_type": "stream",
     "text": [
      "  5%|████▍                                                                                  | 5/99 [00:02<00:51,  1.81it/s]"
     ]
    },
    {
     "name": "stdout",
     "output_type": "stream",
     "text": [
      "Epoch: 005, Train Loss: 0.2256, Test Loss: -0.0594\n"
     ]
    },
    {
     "name": "stderr",
     "output_type": "stream",
     "text": [
      "  6%|█████▎                                                                                 | 6/99 [00:03<00:51,  1.82it/s]"
     ]
    },
    {
     "name": "stdout",
     "output_type": "stream",
     "text": [
      "Epoch: 006, Train Loss: -0.2439, Test Loss: -0.1524\n"
     ]
    },
    {
     "name": "stderr",
     "output_type": "stream",
     "text": [
      "  7%|██████▏                                                                                | 7/99 [00:03<00:50,  1.82it/s]"
     ]
    },
    {
     "name": "stdout",
     "output_type": "stream",
     "text": [
      "Epoch: 007, Train Loss: -0.6067, Test Loss: -0.6705\n"
     ]
    },
    {
     "name": "stderr",
     "output_type": "stream",
     "text": [
      "  8%|███████                                                                                | 8/99 [00:04<00:49,  1.83it/s]"
     ]
    },
    {
     "name": "stdout",
     "output_type": "stream",
     "text": [
      "Epoch: 008, Train Loss: -0.8230, Test Loss: -1.0668\n"
     ]
    },
    {
     "name": "stderr",
     "output_type": "stream",
     "text": [
      "  9%|███████▉                                                                               | 9/99 [00:04<00:48,  1.84it/s]"
     ]
    },
    {
     "name": "stdout",
     "output_type": "stream",
     "text": [
      "Epoch: 009, Train Loss: -1.0300, Test Loss: -1.1298\n"
     ]
    },
    {
     "name": "stderr",
     "output_type": "stream",
     "text": [
      " 10%|████████▋                                                                             | 10/99 [00:05<00:48,  1.84it/s]"
     ]
    },
    {
     "name": "stdout",
     "output_type": "stream",
     "text": [
      "Epoch: 010, Train Loss: -0.9509, Test Loss: -1.4558\n"
     ]
    },
    {
     "name": "stderr",
     "output_type": "stream",
     "text": [
      " 11%|█████████▌                                                                            | 11/99 [00:06<00:47,  1.85it/s]"
     ]
    },
    {
     "name": "stdout",
     "output_type": "stream",
     "text": [
      "Epoch: 011, Train Loss: -1.1584, Test Loss: -1.1247\n"
     ]
    },
    {
     "name": "stderr",
     "output_type": "stream",
     "text": [
      " 12%|██████████▍                                                                           | 12/99 [00:06<00:47,  1.84it/s]"
     ]
    },
    {
     "name": "stdout",
     "output_type": "stream",
     "text": [
      "Epoch: 012, Train Loss: -1.4267, Test Loss: -1.8281\n"
     ]
    },
    {
     "name": "stderr",
     "output_type": "stream",
     "text": [
      " 13%|███████████▎                                                                          | 13/99 [00:07<00:46,  1.85it/s]"
     ]
    },
    {
     "name": "stdout",
     "output_type": "stream",
     "text": [
      "Epoch: 013, Train Loss: -1.6438, Test Loss: -1.6613\n"
     ]
    },
    {
     "name": "stderr",
     "output_type": "stream",
     "text": [
      " 14%|████████████▏                                                                         | 14/99 [00:07<00:46,  1.84it/s]"
     ]
    },
    {
     "name": "stdout",
     "output_type": "stream",
     "text": [
      "Epoch: 014, Train Loss: -1.7272, Test Loss: -1.8201\n"
     ]
    },
    {
     "name": "stderr",
     "output_type": "stream",
     "text": [
      " 15%|█████████████                                                                         | 15/99 [00:08<00:45,  1.84it/s]"
     ]
    },
    {
     "name": "stdout",
     "output_type": "stream",
     "text": [
      "Epoch: 015, Train Loss: -1.9470, Test Loss: -2.0668\n"
     ]
    },
    {
     "name": "stderr",
     "output_type": "stream",
     "text": [
      " 16%|█████████████▉                                                                        | 16/99 [00:08<00:46,  1.78it/s]"
     ]
    },
    {
     "name": "stdout",
     "output_type": "stream",
     "text": [
      "Epoch: 016, Train Loss: -2.1644, Test Loss: -1.4317\n"
     ]
    },
    {
     "name": "stderr",
     "output_type": "stream",
     "text": [
      " 17%|██████████████▊                                                                       | 17/99 [00:09<00:47,  1.74it/s]"
     ]
    },
    {
     "name": "stdout",
     "output_type": "stream",
     "text": [
      "Epoch: 017, Train Loss: -1.4010, Test Loss: -1.8776\n"
     ]
    },
    {
     "name": "stderr",
     "output_type": "stream",
     "text": [
      " 18%|███████████████▋                                                                      | 18/99 [00:10<00:47,  1.71it/s]"
     ]
    },
    {
     "name": "stdout",
     "output_type": "stream",
     "text": [
      "Epoch: 018, Train Loss: -2.1730, Test Loss: -2.0301\n"
     ]
    },
    {
     "name": "stderr",
     "output_type": "stream",
     "text": [
      " 19%|████████████████▌                                                                     | 19/99 [00:10<00:46,  1.73it/s]"
     ]
    },
    {
     "name": "stdout",
     "output_type": "stream",
     "text": [
      "Epoch: 019, Train Loss: -2.1262, Test Loss: -2.2121\n"
     ]
    },
    {
     "name": "stderr",
     "output_type": "stream",
     "text": [
      " 20%|█████████████████▎                                                                    | 20/99 [00:11<00:45,  1.75it/s]"
     ]
    },
    {
     "name": "stdout",
     "output_type": "stream",
     "text": [
      "Epoch: 020, Train Loss: -2.3308, Test Loss: -2.5329\n"
     ]
    },
    {
     "name": "stderr",
     "output_type": "stream",
     "text": [
      " 21%|██████████████████▏                                                                   | 21/99 [00:11<00:44,  1.77it/s]"
     ]
    },
    {
     "name": "stdout",
     "output_type": "stream",
     "text": [
      "Epoch: 021, Train Loss: -2.4702, Test Loss: -1.1115\n"
     ]
    },
    {
     "name": "stderr",
     "output_type": "stream",
     "text": [
      " 22%|███████████████████                                                                   | 22/99 [00:12<00:43,  1.78it/s]"
     ]
    },
    {
     "name": "stdout",
     "output_type": "stream",
     "text": [
      "Epoch: 022, Train Loss: -2.0544, Test Loss: -2.6800\n"
     ]
    },
    {
     "name": "stderr",
     "output_type": "stream",
     "text": [
      " 23%|███████████████████▉                                                                  | 23/99 [00:12<00:42,  1.79it/s]"
     ]
    },
    {
     "name": "stdout",
     "output_type": "stream",
     "text": [
      "Epoch: 023, Train Loss: -2.6719, Test Loss: -2.8082\n"
     ]
    },
    {
     "name": "stderr",
     "output_type": "stream",
     "text": [
      " 24%|████████████████████▊                                                                 | 24/99 [00:13<00:41,  1.80it/s]"
     ]
    },
    {
     "name": "stdout",
     "output_type": "stream",
     "text": [
      "Epoch: 024, Train Loss: -2.6770, Test Loss: -2.3621\n"
     ]
    },
    {
     "name": "stderr",
     "output_type": "stream",
     "text": [
      " 25%|█████████████████████▋                                                                | 25/99 [00:13<00:40,  1.82it/s]"
     ]
    },
    {
     "name": "stdout",
     "output_type": "stream",
     "text": [
      "Epoch: 025, Train Loss: -2.7276, Test Loss: -3.0841\n"
     ]
    },
    {
     "name": "stderr",
     "output_type": "stream",
     "text": [
      " 26%|██████████████████████▌                                                               | 26/99 [00:14<00:40,  1.82it/s]"
     ]
    },
    {
     "name": "stdout",
     "output_type": "stream",
     "text": [
      "Epoch: 026, Train Loss: -2.6522, Test Loss: -2.1725\n"
     ]
    },
    {
     "name": "stderr",
     "output_type": "stream",
     "text": [
      " 27%|███████████████████████▍                                                              | 27/99 [00:14<00:39,  1.83it/s]"
     ]
    },
    {
     "name": "stdout",
     "output_type": "stream",
     "text": [
      "Epoch: 027, Train Loss: -2.8545, Test Loss: -3.1634\n"
     ]
    },
    {
     "name": "stderr",
     "output_type": "stream",
     "text": [
      " 28%|████████████████████████▎                                                             | 28/99 [00:15<00:38,  1.83it/s]"
     ]
    },
    {
     "name": "stdout",
     "output_type": "stream",
     "text": [
      "Epoch: 028, Train Loss: -2.6885, Test Loss: -2.1646\n"
     ]
    },
    {
     "name": "stderr",
     "output_type": "stream",
     "text": [
      " 29%|█████████████████████████▏                                                            | 29/99 [00:16<00:38,  1.83it/s]"
     ]
    },
    {
     "name": "stdout",
     "output_type": "stream",
     "text": [
      "Epoch: 029, Train Loss: -2.6754, Test Loss: -3.1458\n"
     ]
    },
    {
     "name": "stderr",
     "output_type": "stream",
     "text": [
      " 30%|██████████████████████████                                                            | 30/99 [00:16<00:37,  1.84it/s]"
     ]
    },
    {
     "name": "stdout",
     "output_type": "stream",
     "text": [
      "Epoch: 030, Train Loss: -3.2083, Test Loss: -3.5995\n"
     ]
    },
    {
     "name": "stderr",
     "output_type": "stream",
     "text": [
      " 31%|██████████████████████████▉                                                           | 31/99 [00:17<00:37,  1.83it/s]"
     ]
    },
    {
     "name": "stdout",
     "output_type": "stream",
     "text": [
      "Epoch: 031, Train Loss: -3.2860, Test Loss: -3.5837\n"
     ]
    },
    {
     "name": "stderr",
     "output_type": "stream",
     "text": [
      " 32%|███████████████████████████▊                                                          | 32/99 [00:17<00:36,  1.83it/s]"
     ]
    },
    {
     "name": "stdout",
     "output_type": "stream",
     "text": [
      "Epoch: 032, Train Loss: -3.3211, Test Loss: -3.0229\n"
     ]
    },
    {
     "name": "stderr",
     "output_type": "stream",
     "text": [
      " 33%|████████████████████████████▋                                                         | 33/99 [00:18<00:36,  1.82it/s]"
     ]
    },
    {
     "name": "stdout",
     "output_type": "stream",
     "text": [
      "Epoch: 033, Train Loss: -3.4300, Test Loss: -3.3494\n"
     ]
    },
    {
     "name": "stderr",
     "output_type": "stream",
     "text": [
      " 34%|█████████████████████████████▌                                                        | 34/99 [00:18<00:36,  1.80it/s]"
     ]
    },
    {
     "name": "stdout",
     "output_type": "stream",
     "text": [
      "Epoch: 034, Train Loss: -3.2258, Test Loss: -3.4062\n"
     ]
    },
    {
     "name": "stderr",
     "output_type": "stream",
     "text": [
      " 35%|██████████████████████████████▍                                                       | 35/99 [00:19<00:35,  1.81it/s]"
     ]
    },
    {
     "name": "stdout",
     "output_type": "stream",
     "text": [
      "Epoch: 035, Train Loss: -3.4539, Test Loss: -3.6630\n"
     ]
    },
    {
     "name": "stderr",
     "output_type": "stream",
     "text": [
      " 36%|███████████████████████████████▎                                                      | 36/99 [00:19<00:34,  1.82it/s]"
     ]
    },
    {
     "name": "stdout",
     "output_type": "stream",
     "text": [
      "Epoch: 036, Train Loss: -3.5649, Test Loss: -2.6813\n"
     ]
    },
    {
     "name": "stderr",
     "output_type": "stream",
     "text": [
      " 37%|████████████████████████████████▏                                                     | 37/99 [00:20<00:34,  1.82it/s]"
     ]
    },
    {
     "name": "stdout",
     "output_type": "stream",
     "text": [
      "Epoch: 037, Train Loss: -3.4103, Test Loss: -3.7349\n"
     ]
    },
    {
     "name": "stderr",
     "output_type": "stream",
     "text": [
      " 38%|█████████████████████████████████                                                     | 38/99 [00:20<00:33,  1.82it/s]"
     ]
    },
    {
     "name": "stdout",
     "output_type": "stream",
     "text": [
      "Epoch: 038, Train Loss: -3.1399, Test Loss: -3.4055\n"
     ]
    },
    {
     "name": "stderr",
     "output_type": "stream",
     "text": [
      " 39%|█████████████████████████████████▉                                                    | 39/99 [00:21<00:33,  1.82it/s]"
     ]
    },
    {
     "name": "stdout",
     "output_type": "stream",
     "text": [
      "Epoch: 039, Train Loss: -3.4414, Test Loss: -3.1552\n"
     ]
    },
    {
     "name": "stderr",
     "output_type": "stream",
     "text": [
      " 40%|██████████████████████████████████▋                                                   | 40/99 [00:22<00:32,  1.82it/s]"
     ]
    },
    {
     "name": "stdout",
     "output_type": "stream",
     "text": [
      "Epoch: 040, Train Loss: -3.5219, Test Loss: -3.3832\n"
     ]
    },
    {
     "name": "stderr",
     "output_type": "stream",
     "text": [
      " 41%|███████████████████████████████████▌                                                  | 41/99 [00:22<00:31,  1.82it/s]"
     ]
    },
    {
     "name": "stdout",
     "output_type": "stream",
     "text": [
      "Epoch: 041, Train Loss: -3.2822, Test Loss: -3.4683\n"
     ]
    },
    {
     "name": "stderr",
     "output_type": "stream",
     "text": [
      " 42%|████████████████████████████████████▍                                                 | 42/99 [00:23<00:31,  1.82it/s]"
     ]
    },
    {
     "name": "stdout",
     "output_type": "stream",
     "text": [
      "Epoch: 042, Train Loss: -3.4687, Test Loss: -2.9165\n"
     ]
    },
    {
     "name": "stderr",
     "output_type": "stream",
     "text": [
      " 43%|█████████████████████████████████████▎                                                | 43/99 [00:23<00:31,  1.76it/s]"
     ]
    },
    {
     "name": "stdout",
     "output_type": "stream",
     "text": [
      "Epoch: 043, Train Loss: -3.5875, Test Loss: -3.9153\n"
     ]
    },
    {
     "name": "stderr",
     "output_type": "stream",
     "text": [
      " 44%|██████████████████████████████████████▏                                               | 44/99 [00:24<00:31,  1.73it/s]"
     ]
    },
    {
     "name": "stdout",
     "output_type": "stream",
     "text": [
      "Epoch: 044, Train Loss: -3.8141, Test Loss: -3.7268\n"
     ]
    },
    {
     "name": "stderr",
     "output_type": "stream",
     "text": [
      " 45%|███████████████████████████████████████                                               | 45/99 [00:25<00:31,  1.70it/s]"
     ]
    },
    {
     "name": "stdout",
     "output_type": "stream",
     "text": [
      "Epoch: 045, Train Loss: -3.6658, Test Loss: -3.9575\n"
     ]
    },
    {
     "name": "stderr",
     "output_type": "stream",
     "text": [
      " 46%|███████████████████████████████████████▉                                              | 46/99 [00:25<00:30,  1.72it/s]"
     ]
    },
    {
     "name": "stdout",
     "output_type": "stream",
     "text": [
      "Epoch: 046, Train Loss: -3.6424, Test Loss: -3.0041\n"
     ]
    },
    {
     "name": "stderr",
     "output_type": "stream",
     "text": [
      " 47%|████████████████████████████████████████▊                                             | 47/99 [00:26<00:29,  1.75it/s]"
     ]
    },
    {
     "name": "stdout",
     "output_type": "stream",
     "text": [
      "Epoch: 047, Train Loss: -3.6106, Test Loss: -3.7327\n"
     ]
    },
    {
     "name": "stderr",
     "output_type": "stream",
     "text": [
      " 48%|█████████████████████████████████████████▋                                            | 48/99 [00:26<00:28,  1.77it/s]"
     ]
    },
    {
     "name": "stdout",
     "output_type": "stream",
     "text": [
      "Epoch: 048, Train Loss: -3.7020, Test Loss: -3.4455\n"
     ]
    },
    {
     "name": "stderr",
     "output_type": "stream",
     "text": [
      " 49%|██████████████████████████████████████████▌                                           | 49/99 [00:27<00:27,  1.79it/s]"
     ]
    },
    {
     "name": "stdout",
     "output_type": "stream",
     "text": [
      "Epoch: 049, Train Loss: -3.5961, Test Loss: -3.8736\n"
     ]
    },
    {
     "name": "stderr",
     "output_type": "stream",
     "text": [
      " 51%|███████████████████████████████████████████▍                                          | 50/99 [00:27<00:27,  1.81it/s]"
     ]
    },
    {
     "name": "stdout",
     "output_type": "stream",
     "text": [
      "Epoch: 050, Train Loss: -3.7278, Test Loss: -3.5270\n"
     ]
    },
    {
     "name": "stderr",
     "output_type": "stream",
     "text": [
      " 52%|████████████████████████████████████████████▎                                         | 51/99 [00:28<00:26,  1.81it/s]"
     ]
    },
    {
     "name": "stdout",
     "output_type": "stream",
     "text": [
      "Epoch: 051, Train Loss: -3.1235, Test Loss: -3.2938\n"
     ]
    },
    {
     "name": "stderr",
     "output_type": "stream",
     "text": [
      " 53%|█████████████████████████████████████████████▏                                        | 52/99 [00:28<00:25,  1.82it/s]"
     ]
    },
    {
     "name": "stdout",
     "output_type": "stream",
     "text": [
      "Epoch: 052, Train Loss: -3.6555, Test Loss: -3.4063\n"
     ]
    },
    {
     "name": "stderr",
     "output_type": "stream",
     "text": [
      " 54%|██████████████████████████████████████████████                                        | 53/99 [00:29<00:25,  1.83it/s]"
     ]
    },
    {
     "name": "stdout",
     "output_type": "stream",
     "text": [
      "Epoch: 053, Train Loss: -3.8743, Test Loss: -4.0671\n"
     ]
    },
    {
     "name": "stderr",
     "output_type": "stream",
     "text": [
      " 55%|██████████████████████████████████████████████▉                                       | 54/99 [00:29<00:24,  1.83it/s]"
     ]
    },
    {
     "name": "stdout",
     "output_type": "stream",
     "text": [
      "Epoch: 054, Train Loss: -3.6234, Test Loss: -3.8734\n"
     ]
    },
    {
     "name": "stderr",
     "output_type": "stream",
     "text": [
      " 56%|███████████████████████████████████████████████▊                                      | 55/99 [00:30<00:24,  1.83it/s]"
     ]
    },
    {
     "name": "stdout",
     "output_type": "stream",
     "text": [
      "Epoch: 055, Train Loss: -3.8039, Test Loss: -3.6787\n"
     ]
    },
    {
     "name": "stderr",
     "output_type": "stream",
     "text": [
      " 57%|████████████████████████████████████████████████▋                                     | 56/99 [00:31<00:23,  1.83it/s]"
     ]
    },
    {
     "name": "stdout",
     "output_type": "stream",
     "text": [
      "Epoch: 056, Train Loss: -3.6648, Test Loss: -3.8546\n"
     ]
    },
    {
     "name": "stderr",
     "output_type": "stream",
     "text": [
      " 58%|█████████████████████████████████████████████████▌                                    | 57/99 [00:31<00:22,  1.83it/s]"
     ]
    },
    {
     "name": "stdout",
     "output_type": "stream",
     "text": [
      "Epoch: 057, Train Loss: -3.9117, Test Loss: -3.7428\n"
     ]
    },
    {
     "name": "stderr",
     "output_type": "stream",
     "text": [
      " 59%|██████████████████████████████████████████████████▍                                   | 58/99 [00:32<00:22,  1.83it/s]"
     ]
    },
    {
     "name": "stdout",
     "output_type": "stream",
     "text": [
      "Epoch: 058, Train Loss: -3.9420, Test Loss: -3.4234\n"
     ]
    },
    {
     "name": "stderr",
     "output_type": "stream",
     "text": [
      " 60%|███████████████████████████████████████████████████▎                                  | 59/99 [00:32<00:21,  1.83it/s]"
     ]
    },
    {
     "name": "stdout",
     "output_type": "stream",
     "text": [
      "Epoch: 059, Train Loss: -3.6914, Test Loss: -3.8803\n"
     ]
    },
    {
     "name": "stderr",
     "output_type": "stream",
     "text": [
      " 61%|████████████████████████████████████████████████████                                  | 60/99 [00:33<00:21,  1.83it/s]"
     ]
    },
    {
     "name": "stdout",
     "output_type": "stream",
     "text": [
      "Epoch: 060, Train Loss: -3.6472, Test Loss: -3.6662\n"
     ]
    },
    {
     "name": "stderr",
     "output_type": "stream",
     "text": [
      " 62%|████████████████████████████████████████████████████▉                                 | 61/99 [00:33<00:20,  1.84it/s]"
     ]
    },
    {
     "name": "stdout",
     "output_type": "stream",
     "text": [
      "Epoch: 061, Train Loss: -3.5434, Test Loss: -3.8763\n"
     ]
    },
    {
     "name": "stderr",
     "output_type": "stream",
     "text": [
      " 63%|█████████████████████████████████████████████████████▊                                | 62/99 [00:34<00:20,  1.84it/s]"
     ]
    },
    {
     "name": "stdout",
     "output_type": "stream",
     "text": [
      "Epoch: 062, Train Loss: -3.9482, Test Loss: -3.9455\n"
     ]
    },
    {
     "name": "stderr",
     "output_type": "stream",
     "text": [
      " 64%|██████████████████████████████████████████████████████▋                               | 63/99 [00:34<00:19,  1.83it/s]"
     ]
    },
    {
     "name": "stdout",
     "output_type": "stream",
     "text": [
      "Epoch: 063, Train Loss: -3.8107, Test Loss: -4.1780\n"
     ]
    },
    {
     "name": "stderr",
     "output_type": "stream",
     "text": [
      " 65%|███████████████████████████████████████████████████████▌                              | 64/99 [00:35<00:19,  1.83it/s]"
     ]
    },
    {
     "name": "stdout",
     "output_type": "stream",
     "text": [
      "Epoch: 064, Train Loss: -4.0180, Test Loss: -3.8979\n"
     ]
    },
    {
     "name": "stderr",
     "output_type": "stream",
     "text": [
      " 66%|████████████████████████████████████████████████████████▍                             | 65/99 [00:35<00:18,  1.83it/s]"
     ]
    },
    {
     "name": "stdout",
     "output_type": "stream",
     "text": [
      "Epoch: 065, Train Loss: -3.8857, Test Loss: -3.8606\n"
     ]
    },
    {
     "name": "stderr",
     "output_type": "stream",
     "text": [
      " 67%|█████████████████████████████████████████████████████████▎                            | 66/99 [00:36<00:18,  1.81it/s]"
     ]
    },
    {
     "name": "stdout",
     "output_type": "stream",
     "text": [
      "Epoch: 066, Train Loss: -3.8048, Test Loss: -3.8330\n"
     ]
    },
    {
     "name": "stderr",
     "output_type": "stream",
     "text": [
      " 68%|██████████████████████████████████████████████████████████▏                           | 67/99 [00:37<00:18,  1.77it/s]"
     ]
    },
    {
     "name": "stdout",
     "output_type": "stream",
     "text": [
      "Epoch: 067, Train Loss: -3.9848, Test Loss: -2.7935\n"
     ]
    },
    {
     "name": "stderr",
     "output_type": "stream",
     "text": [
      " 69%|███████████████████████████████████████████████████████████                           | 68/99 [00:37<00:17,  1.78it/s]"
     ]
    },
    {
     "name": "stdout",
     "output_type": "stream",
     "text": [
      "Epoch: 068, Train Loss: -3.7999, Test Loss: -4.2382\n"
     ]
    },
    {
     "name": "stderr",
     "output_type": "stream",
     "text": [
      " 70%|███████████████████████████████████████████████████████████▉                          | 69/99 [00:38<00:16,  1.80it/s]"
     ]
    },
    {
     "name": "stdout",
     "output_type": "stream",
     "text": [
      "Epoch: 069, Train Loss: -3.9055, Test Loss: -3.4353\n"
     ]
    },
    {
     "name": "stderr",
     "output_type": "stream",
     "text": [
      " 71%|████████████████████████████████████████████████████████████▊                         | 70/99 [00:38<00:15,  1.82it/s]"
     ]
    },
    {
     "name": "stdout",
     "output_type": "stream",
     "text": [
      "Epoch: 070, Train Loss: -3.9063, Test Loss: -4.0463\n"
     ]
    },
    {
     "name": "stderr",
     "output_type": "stream",
     "text": [
      " 72%|█████████████████████████████████████████████████████████████▋                        | 71/99 [00:39<00:15,  1.82it/s]"
     ]
    },
    {
     "name": "stdout",
     "output_type": "stream",
     "text": [
      "Epoch: 071, Train Loss: -4.0970, Test Loss: -4.1581\n"
     ]
    },
    {
     "name": "stderr",
     "output_type": "stream",
     "text": [
      " 73%|██████████████████████████████████████████████████████████████▌                       | 72/99 [00:39<00:14,  1.84it/s]"
     ]
    },
    {
     "name": "stdout",
     "output_type": "stream",
     "text": [
      "Epoch: 072, Train Loss: -3.4645, Test Loss: -3.9686\n"
     ]
    },
    {
     "name": "stderr",
     "output_type": "stream",
     "text": [
      " 74%|███████████████████████████████████████████████████████████████▍                      | 73/99 [00:40<00:14,  1.84it/s]"
     ]
    },
    {
     "name": "stdout",
     "output_type": "stream",
     "text": [
      "Epoch: 073, Train Loss: -3.9608, Test Loss: -3.3118\n"
     ]
    },
    {
     "name": "stderr",
     "output_type": "stream",
     "text": [
      " 75%|████████████████████████████████████████████████████████████████▎                     | 74/99 [00:40<00:13,  1.83it/s]"
     ]
    },
    {
     "name": "stdout",
     "output_type": "stream",
     "text": [
      "Epoch: 074, Train Loss: -3.8307, Test Loss: -4.1329\n"
     ]
    },
    {
     "name": "stderr",
     "output_type": "stream",
     "text": [
      " 76%|█████████████████████████████████████████████████████████████████▏                    | 75/99 [00:41<00:13,  1.83it/s]"
     ]
    },
    {
     "name": "stdout",
     "output_type": "stream",
     "text": [
      "Epoch: 075, Train Loss: -4.1287, Test Loss: -3.6445\n"
     ]
    },
    {
     "name": "stderr",
     "output_type": "stream",
     "text": [
      " 77%|██████████████████████████████████████████████████████████████████                    | 76/99 [00:42<00:12,  1.83it/s]"
     ]
    },
    {
     "name": "stdout",
     "output_type": "stream",
     "text": [
      "Epoch: 076, Train Loss: -4.0529, Test Loss: -3.5863\n"
     ]
    },
    {
     "name": "stderr",
     "output_type": "stream",
     "text": [
      " 78%|██████████████████████████████████████████████████████████████████▉                   | 77/99 [00:42<00:12,  1.83it/s]"
     ]
    },
    {
     "name": "stdout",
     "output_type": "stream",
     "text": [
      "Epoch: 077, Train Loss: -3.9487, Test Loss: -3.4875\n"
     ]
    },
    {
     "name": "stderr",
     "output_type": "stream",
     "text": [
      " 79%|███████████████████████████████████████████████████████████████████▊                  | 78/99 [00:43<00:11,  1.83it/s]"
     ]
    },
    {
     "name": "stdout",
     "output_type": "stream",
     "text": [
      "Epoch: 078, Train Loss: -4.1008, Test Loss: -3.1398\n"
     ]
    },
    {
     "name": "stderr",
     "output_type": "stream",
     "text": [
      " 80%|████████████████████████████████████████████████████████████████████▋                 | 79/99 [00:43<00:10,  1.83it/s]"
     ]
    },
    {
     "name": "stdout",
     "output_type": "stream",
     "text": [
      "Epoch: 079, Train Loss: -3.4289, Test Loss: -3.7897\n"
     ]
    },
    {
     "name": "stderr",
     "output_type": "stream",
     "text": [
      " 81%|█████████████████████████████████████████████████████████████████████▍                | 80/99 [00:44<00:10,  1.83it/s]"
     ]
    },
    {
     "name": "stdout",
     "output_type": "stream",
     "text": [
      "Epoch: 080, Train Loss: -4.0975, Test Loss: -3.9823\n"
     ]
    },
    {
     "name": "stderr",
     "output_type": "stream",
     "text": [
      " 82%|██████████████████████████████████████████████████████████████████████▎               | 81/99 [00:44<00:09,  1.83it/s]"
     ]
    },
    {
     "name": "stdout",
     "output_type": "stream",
     "text": [
      "Epoch: 081, Train Loss: -4.1158, Test Loss: -4.2785\n"
     ]
    },
    {
     "name": "stderr",
     "output_type": "stream",
     "text": [
      " 83%|███████████████████████████████████████████████████████████████████████▏              | 82/99 [00:45<00:09,  1.83it/s]"
     ]
    },
    {
     "name": "stdout",
     "output_type": "stream",
     "text": [
      "Epoch: 082, Train Loss: -4.0593, Test Loss: -4.2882\n"
     ]
    },
    {
     "name": "stderr",
     "output_type": "stream",
     "text": [
      " 84%|████████████████████████████████████████████████████████████████████████              | 83/99 [00:45<00:08,  1.82it/s]"
     ]
    },
    {
     "name": "stdout",
     "output_type": "stream",
     "text": [
      "Epoch: 083, Train Loss: -4.2229, Test Loss: -3.5995\n"
     ]
    },
    {
     "name": "stderr",
     "output_type": "stream",
     "text": [
      " 85%|████████████████████████████████████████████████████████████████████████▉             | 84/99 [00:46<00:08,  1.82it/s]"
     ]
    },
    {
     "name": "stdout",
     "output_type": "stream",
     "text": [
      "Epoch: 084, Train Loss: -3.6784, Test Loss: -3.9099\n"
     ]
    },
    {
     "name": "stderr",
     "output_type": "stream",
     "text": [
      " 86%|█████████████████████████████████████████████████████████████████████████▊            | 85/99 [00:46<00:07,  1.83it/s]"
     ]
    },
    {
     "name": "stdout",
     "output_type": "stream",
     "text": [
      "Epoch: 085, Train Loss: -4.2248, Test Loss: -3.7893\n"
     ]
    },
    {
     "name": "stderr",
     "output_type": "stream",
     "text": [
      " 87%|██████████████████████████████████████████████████████████████████████████▋           | 86/99 [00:47<00:07,  1.81it/s]"
     ]
    },
    {
     "name": "stdout",
     "output_type": "stream",
     "text": [
      "Epoch: 086, Train Loss: -4.1141, Test Loss: -4.0821\n"
     ]
    },
    {
     "name": "stderr",
     "output_type": "stream",
     "text": [
      " 88%|███████████████████████████████████████████████████████████████████████████▌          | 87/99 [00:48<00:06,  1.76it/s]"
     ]
    },
    {
     "name": "stdout",
     "output_type": "stream",
     "text": [
      "Epoch: 087, Train Loss: -3.9298, Test Loss: -4.2121\n"
     ]
    },
    {
     "name": "stderr",
     "output_type": "stream",
     "text": [
      " 89%|████████████████████████████████████████████████████████████████████████████▍         | 88/99 [00:48<00:06,  1.73it/s]"
     ]
    },
    {
     "name": "stdout",
     "output_type": "stream",
     "text": [
      "Epoch: 088, Train Loss: -3.7765, Test Loss: -4.1148\n"
     ]
    },
    {
     "name": "stderr",
     "output_type": "stream",
     "text": [
      " 90%|█████████████████████████████████████████████████████████████████████████████▎        | 89/99 [00:49<00:05,  1.70it/s]"
     ]
    },
    {
     "name": "stdout",
     "output_type": "stream",
     "text": [
      "Epoch: 089, Train Loss: -4.0969, Test Loss: -3.9897\n"
     ]
    },
    {
     "name": "stderr",
     "output_type": "stream",
     "text": [
      " 91%|██████████████████████████████████████████████████████████████████████████████▏       | 90/99 [00:49<00:05,  1.68it/s]"
     ]
    },
    {
     "name": "stdout",
     "output_type": "stream",
     "text": [
      "Epoch: 090, Train Loss: -4.0899, Test Loss: -4.0691\n"
     ]
    },
    {
     "name": "stderr",
     "output_type": "stream",
     "text": [
      " 92%|███████████████████████████████████████████████████████████████████████████████       | 91/99 [00:50<00:04,  1.67it/s]"
     ]
    },
    {
     "name": "stdout",
     "output_type": "stream",
     "text": [
      "Epoch: 091, Train Loss: -4.1936, Test Loss: -3.8447\n"
     ]
    },
    {
     "name": "stderr",
     "output_type": "stream",
     "text": [
      " 93%|███████████████████████████████████████████████████████████████████████████████▉      | 92/99 [00:51<00:04,  1.67it/s]"
     ]
    },
    {
     "name": "stdout",
     "output_type": "stream",
     "text": [
      "Epoch: 092, Train Loss: -3.8326, Test Loss: -4.0473\n"
     ]
    },
    {
     "name": "stderr",
     "output_type": "stream",
     "text": [
      " 94%|████████████████████████████████████████████████████████████████████████████████▊     | 93/99 [00:51<00:03,  1.67it/s]"
     ]
    },
    {
     "name": "stdout",
     "output_type": "stream",
     "text": [
      "Epoch: 093, Train Loss: -4.0401, Test Loss: -4.1635\n"
     ]
    },
    {
     "name": "stderr",
     "output_type": "stream",
     "text": [
      " 95%|█████████████████████████████████████████████████████████████████████████████████▋    | 94/99 [00:52<00:03,  1.67it/s]"
     ]
    },
    {
     "name": "stdout",
     "output_type": "stream",
     "text": [
      "Epoch: 094, Train Loss: -4.0266, Test Loss: -3.9551\n"
     ]
    },
    {
     "name": "stderr",
     "output_type": "stream",
     "text": [
      " 96%|██████████████████████████████████████████████████████████████████████████████████▌   | 95/99 [00:52<00:02,  1.67it/s]"
     ]
    },
    {
     "name": "stdout",
     "output_type": "stream",
     "text": [
      "Epoch: 095, Train Loss: -4.1026, Test Loss: -4.0019\n"
     ]
    },
    {
     "name": "stderr",
     "output_type": "stream",
     "text": [
      " 97%|███████████████████████████████████████████████████████████████████████████████████▍  | 96/99 [00:53<00:01,  1.66it/s]"
     ]
    },
    {
     "name": "stdout",
     "output_type": "stream",
     "text": [
      "Epoch: 096, Train Loss: -4.2370, Test Loss: -4.4327\n"
     ]
    },
    {
     "name": "stderr",
     "output_type": "stream",
     "text": [
      " 98%|████████████████████████████████████████████████████████████████████████████████████▎ | 97/99 [00:54<00:01,  1.67it/s]"
     ]
    },
    {
     "name": "stdout",
     "output_type": "stream",
     "text": [
      "Epoch: 097, Train Loss: -4.3165, Test Loss: -4.1695\n"
     ]
    },
    {
     "name": "stderr",
     "output_type": "stream",
     "text": [
      " 99%|█████████████████████████████████████████████████████████████████████████████████████▏| 98/99 [00:54<00:00,  1.68it/s]"
     ]
    },
    {
     "name": "stdout",
     "output_type": "stream",
     "text": [
      "Epoch: 098, Train Loss: -4.2141, Test Loss: -3.9896\n"
     ]
    },
    {
     "name": "stderr",
     "output_type": "stream",
     "text": [
      "100%|██████████████████████████████████████████████████████████████████████████████████████| 99/99 [00:55<00:00,  1.79it/s]"
     ]
    },
    {
     "name": "stdout",
     "output_type": "stream",
     "text": [
      "Epoch: 099, Train Loss: -3.8437, Test Loss: -3.9143\n",
      "Time elapsed:  55.365863528999995\n"
     ]
    },
    {
     "name": "stderr",
     "output_type": "stream",
     "text": [
      "\n"
     ]
    }
   ],
   "source": [
    "loss_hist = []\n",
    "\n",
    "start = time.process_time()\n",
    "for epoch in tqdm(range(1, 100)):\n",
    "    train_loss = train(gru_model, flow, optimizer, train_loader)\n",
    "    test_loss = test(gru_model, flow, train_loader)\n",
    "    loss_hist.append([train_loss, test_loss])\n",
    "    print(f'Epoch: {epoch:03d}, Train Loss: {train_loss:.4f}, Test Loss: {test_loss:.4f}')\n",
    "\n",
    "loss_hist = np.array(loss_hist)\n",
    "print('Time elapsed: ', time.process_time() - start)"
   ]
  },
  {
   "cell_type": "code",
   "execution_count": 33,
   "id": "0c13d51b-2ee1-4e9f-a7aa-bf149d4c1108",
   "metadata": {},
   "outputs": [
    {
     "data": {
      "image/png": "[encoded data removed]",
      "text/plain": [
       "<Figure size 640x480 with 1 Axes>"
      ]
     },
     "metadata": {},
     "output_type": "display_data"
    }
   ],
   "source": [
    "plt.plot(loss_hist[:, 0], label='Train Loss')\n",
    "plt.plot(loss_hist[:, 1], label='Test Loss')\n",
    "plt.xlabel('Epoch')\n",
    "plt.ylabel('Loss')\n",
    "plt.legend()\n",
    "plt.show()"
   ]
  },
  {
   "cell_type": "code",
   "execution_count": 54,
   "id": "12ecc6db-a29b-446a-be67-0f1c9b0239f0",
   "metadata": {},
   "outputs": [
    {
     "data": {
      "image/png": "[encoded data removed]",
      "text/plain": [
       "<Figure size 550x550 with 4 Axes>"
      ]
     },
     "metadata": {},
     "output_type": "display_data"
    }
   ],
   "source": [
    "# we are using the same train_loader here but we can fix this when we implement our data\n",
    "test_data_iter = iter(train_loader)  \n",
    "test_data, test_target = next(test_data_iter)  # get the first batch\n",
    "\n",
    "# move the data to the appropriate device\n",
    "test_data = test_data.to(device)\n",
    "test_target = test_target.to(device)\n",
    "\n",
    "# ensure the model is in evaluation mode\n",
    "gru_model.eval()\n",
    "\n",
    "# perform the forward pass with no gradient calculation\n",
    "with torch.no_grad():\n",
    "    if torch.cuda.device_count() > 1:\n",
    "        test_context = gru_model.module(test_data)  # if using DataParallel\n",
    "    else:\n",
    "        test_context = gru_model(test_data)\n",
    "\n",
    "# use only the first sample in the batch for simplicity\n",
    "test_context_single = test_context[0].unsqueeze(0)\n",
    "test_target_single = test_target[0].unsqueeze(0)\n",
    "\n",
    "# generate samples from the flow model based on the context\n",
    "num_samples = 500\n",
    "with torch.no_grad():\n",
    "    if torch.cuda.device_count() > 1:\n",
    "        samples = flow.module.flow.sample(num_samples, context=test_context_single.expand(num_samples, -1))\n",
    "    else:\n",
    "        samples = flow.flow.sample(num_samples, context=test_context_single.expand(num_samples, -1))\n",
    "\n",
    "# convert samples and true values to numpy arrays\n",
    "samples_np = samples.cpu().numpy()\n",
    "true_values = test_target_single.cpu().numpy().flatten()\n",
    "\n",
    "# labels for the corner plot\n",
    "feature_labels = [\"Frequency\", \"Phase\"]\n",
    "\n",
    "# create and display the corner plot\n",
    "figure = corner.corner(samples_np, labels=feature_labels, truths=true_values, show_titles=True, title_fmt='.2f')\n",
    "plt.tight_layout()\n",
    "plt.show()"
   ]
  },
  {
   "cell_type": "code",
   "execution_count": 55,
   "id": "83abf329-1b32-4da3-91cd-595ace4b3288",
   "metadata": {},
   "outputs": [],
   "source": [
    "def get_preds(model, flow, dataset):\n",
    "    # An empty list to store samples from all streams\n",
    "    mean, std, true = [], [], []\n",
    "    y_mean, y_sig, y_true = [], [], []\n",
    "\n",
    "    # Generate samples for each graph in the test dataset\n",
    "    for data in dataset:\n",
    "        data0, target = (data[0].unsqueeze(0)).to(device), data[1].to(device)\n",
    "        \n",
    "        # Extract context from the data0\n",
    "        if torch.cuda.device_count() > 1:\n",
    "            data_to_context = model.module(data0)\n",
    "        elif torch.cuda.device_count() == 1 or torch.cuda.device_count() < 1:\n",
    "            data_to_context = model(data0)\n",
    "        \n",
    "        # Generate samples from the flow model on the provided context\n",
    "        num_samples = 500 \n",
    "        with torch.no_grad():\n",
    "            if torch.cuda.device_count() > 1:\n",
    "                samples = flow.module.flow.sample(num_samples, context=data_to_context.expand(num_samples, -1))\n",
    "            elif torch.cuda.device_count() == 1 or torch.cuda.device_count() < 1:\n",
    "                samples = flow.flow.sample(num_samples, context=data_to_context.expand(num_samples, -1))\n",
    "    \n",
    "        samples_np = samples.cpu().numpy()\n",
    "    \n",
    "        mean_samples = np.mean(np.mean(samples_np, axis=0), axis=0)\n",
    "        std_samples = np.mean(np.std(samples_np, axis=0), axis=0)\n",
    "    \n",
    "        mean.append(mean_samples.tolist())\n",
    "        std.append(std_samples.tolist())\n",
    "        true.append(target.cpu().numpy())\n",
    "\n",
    "    y_mean = [[item[0] for item in mean], [item[1] for item in mean]]\n",
    "    y_sig = [[item[0] for item in std], [item[1] for item in std]]\n",
    "    y_true = [[item[0] for item in true], [item[1] for item in true]]\n",
    "\n",
    "    return y_mean, y_sig, y_true"
   ]
  },
  {
   "cell_type": "code",
   "execution_count": 56,
   "id": "a81546dc-6ca6-4870-88a1-716c03f72996",
   "metadata": {},
   "outputs": [
    {
     "data": {
      "text/plain": [
       "<matplotlib.legend.Legend at 0x7f6e333f0fd0>"
      ]
     },
     "execution_count": 56,
     "metadata": {},
     "output_type": "execute_result"
    },
    {
     "data": {
      "image/png": "[encoded data removed]",
      "text/plain": [
       "<Figure size 1000x600 with 2 Axes>"
      ]
     },
     "metadata": {},
     "output_type": "display_data"
    }
   ],
   "source": [
    "fig, ax = plt.subplots(1, 2, figsize=(10,6))\n",
    "plt.subplots_adjust(wspace=0.3)\n",
    "\n",
    "y_mean, y_sig, y_true = get_preds(gru_model,flow,dataset)\n",
    "ax[0].errorbar(y_true[0],y_mean[0],y_sig[0],alpha=0.2,fmt='.',label='Training')\n",
    "ax[1].errorbar(y_true[1],y_mean[1],y_sig[1],alpha=0.2,fmt='.',label='Training')\n",
    "\n",
    "yy = np.linspace(min(y_true[0]),max(y_true[0]))\n",
    "ax[0].plot(yy,yy,color='k',linestyle='--')\n",
    "\n",
    "yy = np.linspace(min(y_true[1]),max(y_true[1]))\n",
    "ax[1].plot(yy,yy,color='k',linestyle='--')\n",
    "\n",
    "ax[0].set_xlabel(r'True frequency',fontsize=18)\n",
    "ax[0].set_ylabel(r'Predicted frequency',fontsize=18)\n",
    "\n",
    "ax[1].set_xlabel(r'True phase',fontsize=18)\n",
    "ax[1].set_ylabel(r'Predicted phase',fontsize=18)\n",
    "\n",
    "ax[0].legend(loc='best')\n",
    "ax[1].legend(loc='best')"
   ]
  },
  {
   "cell_type": "code",
   "execution_count": null,
   "id": "96293dae-dc28-48cb-a080-e3b53fbe72dc",
   "metadata": {},
   "outputs": [],
   "source": []
  }
 ],
 "metadata": {
  "kernelspec": {
   "display_name": "Python 3 (ipykernel)",
   "language": "python",
   "name": "python3"
  },
  "language_info": {
   "codemirror_mode": {
    "name": "ipython",
    "version": 3
   },
   "file_extension": ".py",
   "mimetype": "text/x-python",
   "name": "python",
   "nbconvert_exporter": "python",
   "pygments_lexer": "ipython3",
   "version": "3.11.5"
  }
 },
 "nbformat": 4,
 "nbformat_minor": 5
}
